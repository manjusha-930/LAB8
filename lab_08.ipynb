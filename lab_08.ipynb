{
  "nbformat": 4,
  "nbformat_minor": 0,
  "metadata": {
    "colab": {
      "provenance": []
    },
    "kernelspec": {
      "name": "python3",
      "display_name": "Python 3"
    },
    "language_info": {
      "name": "python"
    }
  },
  "cells": [
    {
      "cell_type": "code",
      "execution_count": null,
      "metadata": {
        "colab": {
          "base_uri": "https://localhost:8080/",
          "height": 73
        },
        "id": "wvpRwu44UpsW",
        "outputId": "0db3cea3-aebe-4bc2-a3e1-7afb623a4929"
      },
      "outputs": [
        {
          "output_type": "display_data",
          "data": {
            "text/plain": [
              "<IPython.core.display.HTML object>"
            ],
            "text/html": [
              "\n",
              "     <input type=\"file\" id=\"files-8dc0ef1f-edee-4ff7-a646-c2091fafec96\" name=\"files[]\" multiple disabled\n",
              "        style=\"border:none\" />\n",
              "     <output id=\"result-8dc0ef1f-edee-4ff7-a646-c2091fafec96\">\n",
              "      Upload widget is only available when the cell has been executed in the\n",
              "      current browser session. Please rerun this cell to enable.\n",
              "      </output>\n",
              "      <script>// Copyright 2017 Google LLC\n",
              "//\n",
              "// Licensed under the Apache License, Version 2.0 (the \"License\");\n",
              "// you may not use this file except in compliance with the License.\n",
              "// You may obtain a copy of the License at\n",
              "//\n",
              "//      http://www.apache.org/licenses/LICENSE-2.0\n",
              "//\n",
              "// Unless required by applicable law or agreed to in writing, software\n",
              "// distributed under the License is distributed on an \"AS IS\" BASIS,\n",
              "// WITHOUT WARRANTIES OR CONDITIONS OF ANY KIND, either express or implied.\n",
              "// See the License for the specific language governing permissions and\n",
              "// limitations under the License.\n",
              "\n",
              "/**\n",
              " * @fileoverview Helpers for google.colab Python module.\n",
              " */\n",
              "(function(scope) {\n",
              "function span(text, styleAttributes = {}) {\n",
              "  const element = document.createElement('span');\n",
              "  element.textContent = text;\n",
              "  for (const key of Object.keys(styleAttributes)) {\n",
              "    element.style[key] = styleAttributes[key];\n",
              "  }\n",
              "  return element;\n",
              "}\n",
              "\n",
              "// Max number of bytes which will be uploaded at a time.\n",
              "const MAX_PAYLOAD_SIZE = 100 * 1024;\n",
              "\n",
              "function _uploadFiles(inputId, outputId) {\n",
              "  const steps = uploadFilesStep(inputId, outputId);\n",
              "  const outputElement = document.getElementById(outputId);\n",
              "  // Cache steps on the outputElement to make it available for the next call\n",
              "  // to uploadFilesContinue from Python.\n",
              "  outputElement.steps = steps;\n",
              "\n",
              "  return _uploadFilesContinue(outputId);\n",
              "}\n",
              "\n",
              "// This is roughly an async generator (not supported in the browser yet),\n",
              "// where there are multiple asynchronous steps and the Python side is going\n",
              "// to poll for completion of each step.\n",
              "// This uses a Promise to block the python side on completion of each step,\n",
              "// then passes the result of the previous step as the input to the next step.\n",
              "function _uploadFilesContinue(outputId) {\n",
              "  const outputElement = document.getElementById(outputId);\n",
              "  const steps = outputElement.steps;\n",
              "\n",
              "  const next = steps.next(outputElement.lastPromiseValue);\n",
              "  return Promise.resolve(next.value.promise).then((value) => {\n",
              "    // Cache the last promise value to make it available to the next\n",
              "    // step of the generator.\n",
              "    outputElement.lastPromiseValue = value;\n",
              "    return next.value.response;\n",
              "  });\n",
              "}\n",
              "\n",
              "/**\n",
              " * Generator function which is called between each async step of the upload\n",
              " * process.\n",
              " * @param {string} inputId Element ID of the input file picker element.\n",
              " * @param {string} outputId Element ID of the output display.\n",
              " * @return {!Iterable<!Object>} Iterable of next steps.\n",
              " */\n",
              "function* uploadFilesStep(inputId, outputId) {\n",
              "  const inputElement = document.getElementById(inputId);\n",
              "  inputElement.disabled = false;\n",
              "\n",
              "  const outputElement = document.getElementById(outputId);\n",
              "  outputElement.innerHTML = '';\n",
              "\n",
              "  const pickedPromise = new Promise((resolve) => {\n",
              "    inputElement.addEventListener('change', (e) => {\n",
              "      resolve(e.target.files);\n",
              "    });\n",
              "  });\n",
              "\n",
              "  const cancel = document.createElement('button');\n",
              "  inputElement.parentElement.appendChild(cancel);\n",
              "  cancel.textContent = 'Cancel upload';\n",
              "  const cancelPromise = new Promise((resolve) => {\n",
              "    cancel.onclick = () => {\n",
              "      resolve(null);\n",
              "    };\n",
              "  });\n",
              "\n",
              "  // Wait for the user to pick the files.\n",
              "  const files = yield {\n",
              "    promise: Promise.race([pickedPromise, cancelPromise]),\n",
              "    response: {\n",
              "      action: 'starting',\n",
              "    }\n",
              "  };\n",
              "\n",
              "  cancel.remove();\n",
              "\n",
              "  // Disable the input element since further picks are not allowed.\n",
              "  inputElement.disabled = true;\n",
              "\n",
              "  if (!files) {\n",
              "    return {\n",
              "      response: {\n",
              "        action: 'complete',\n",
              "      }\n",
              "    };\n",
              "  }\n",
              "\n",
              "  for (const file of files) {\n",
              "    const li = document.createElement('li');\n",
              "    li.append(span(file.name, {fontWeight: 'bold'}));\n",
              "    li.append(span(\n",
              "        `(${file.type || 'n/a'}) - ${file.size} bytes, ` +\n",
              "        `last modified: ${\n",
              "            file.lastModifiedDate ? file.lastModifiedDate.toLocaleDateString() :\n",
              "                                    'n/a'} - `));\n",
              "    const percent = span('0% done');\n",
              "    li.appendChild(percent);\n",
              "\n",
              "    outputElement.appendChild(li);\n",
              "\n",
              "    const fileDataPromise = new Promise((resolve) => {\n",
              "      const reader = new FileReader();\n",
              "      reader.onload = (e) => {\n",
              "        resolve(e.target.result);\n",
              "      };\n",
              "      reader.readAsArrayBuffer(file);\n",
              "    });\n",
              "    // Wait for the data to be ready.\n",
              "    let fileData = yield {\n",
              "      promise: fileDataPromise,\n",
              "      response: {\n",
              "        action: 'continue',\n",
              "      }\n",
              "    };\n",
              "\n",
              "    // Use a chunked sending to avoid message size limits. See b/62115660.\n",
              "    let position = 0;\n",
              "    do {\n",
              "      const length = Math.min(fileData.byteLength - position, MAX_PAYLOAD_SIZE);\n",
              "      const chunk = new Uint8Array(fileData, position, length);\n",
              "      position += length;\n",
              "\n",
              "      const base64 = btoa(String.fromCharCode.apply(null, chunk));\n",
              "      yield {\n",
              "        response: {\n",
              "          action: 'append',\n",
              "          file: file.name,\n",
              "          data: base64,\n",
              "        },\n",
              "      };\n",
              "\n",
              "      let percentDone = fileData.byteLength === 0 ?\n",
              "          100 :\n",
              "          Math.round((position / fileData.byteLength) * 100);\n",
              "      percent.textContent = `${percentDone}% done`;\n",
              "\n",
              "    } while (position < fileData.byteLength);\n",
              "  }\n",
              "\n",
              "  // All done.\n",
              "  yield {\n",
              "    response: {\n",
              "      action: 'complete',\n",
              "    }\n",
              "  };\n",
              "}\n",
              "\n",
              "scope.google = scope.google || {};\n",
              "scope.google.colab = scope.google.colab || {};\n",
              "scope.google.colab._files = {\n",
              "  _uploadFiles,\n",
              "  _uploadFilesContinue,\n",
              "};\n",
              "})(self);\n",
              "</script> "
            ]
          },
          "metadata": {}
        },
        {
          "output_type": "stream",
          "name": "stdout",
          "text": [
            "Saving DCT_withoutduplicate 6 1 1.csv to DCT_withoutduplicate 6 1 1.csv\n"
          ]
        }
      ],
      "source": [
        "from google.colab import files\n",
        "uploaded = files.upload()"
      ]
    },
    {
      "cell_type": "markdown",
      "source": [],
      "metadata": {
        "id": "VmTZkUI3Y99L"
      }
    },
    {
      "cell_type": "markdown",
      "source": [
        "Q1"
      ],
      "metadata": {
        "id": "Bs7nSH5bXifz"
      }
    },
    {
      "cell_type": "code",
      "source": [
        "\n",
        "\n",
        "import numpy as np\n",
        "import matplotlib.pyplot as plt\n",
        "from sklearn.neural_network import MLPClassifier\n",
        "%matplotlib inline\n"
      ],
      "metadata": {
        "id": "SY-FjJyfXklV"
      },
      "execution_count": null,
      "outputs": []
    },
    {
      "cell_type": "markdown",
      "source": [],
      "metadata": {
        "id": "UoVLzEkfXhLB"
      }
    },
    {
      "cell_type": "markdown",
      "source": [
        "Q1"
      ],
      "metadata": {
        "id": "fuKBH1Q3ZIq3"
      }
    },
    {
      "cell_type": "code",
      "source": [
        "import numpy as np\n",
        "\n",
        "# -----------------------------------------------\n",
        "# Summation Unit\n",
        "# -----------------------------------------------\n",
        "def summation(inputs, weights):\n",
        "    \"\"\"Computes the weighted sum of inputs and weights.\"\"\"\n",
        "    return np.dot(inputs, weights)\n",
        "\n",
        "# -----------------------------------------------\n",
        "# Activation Functions\n",
        "# -----------------------------------------------\n",
        "def step_activation(x):\n",
        "    \"\"\"Step Activation Function.\"\"\"\n",
        "    return 1 if x >= 0 else 0\n",
        "\n",
        "def bipolar_step_activation(x):\n",
        "    \"\"\"Bipolar Step Activation Function.\"\"\"\n",
        "    return 1 if x >= 0 else -1\n",
        "\n",
        "def sigmoid_activation(x):\n",
        "    \"\"\"Sigmoid Activation Function.\"\"\"\n",
        "    return 1 / (1 + np.exp(-x))\n",
        "\n",
        "def tanh_activation(x):\n",
        "    \"\"\"Hyperbolic Tangent (TanH) Activation Function.\"\"\"\n",
        "    return np.tanh(x)\n",
        "\n",
        "def relu_activation(x):\n",
        "    \"\"\"ReLU Activation Function.\"\"\"\n",
        "    return max(0, x)\n",
        "\n",
        "def leaky_relu_activation(x, alpha=0.01):\n",
        "    \"\"\"Leaky ReLU Activation Function.\"\"\"\n",
        "    return x if x > 0 else alpha * x\n",
        "\n",
        "# -----------------------------------------------\n",
        "# Error Comparator Unit\n",
        "# -----------------------------------------------\n",
        "def compute_error(target, output):\n",
        "    \"\"\"Computes the squared error.\"\"\"\n",
        "    return 0.5 * (target - output) ** 2\n"
      ],
      "metadata": {
        "id": "DMY_prknZJ-K"
      },
      "execution_count": null,
      "outputs": []
    },
    {
      "cell_type": "markdown",
      "source": [
        "Q2"
      ],
      "metadata": {
        "id": "Z5al24HzZWir"
      }
    },
    {
      "cell_type": "code",
      "source": [
        "import matplotlib.pyplot as plt\n",
        "\n",
        "# -----------------------------------------------\n",
        "# Perceptron Training Function\n",
        "# -----------------------------------------------\n",
        "def perceptron_train(data, labels, learning_rate, activation_func, max_epochs=1000, error_threshold=0.002):\n",
        "    \"\"\"\n",
        "    Trains the perceptron using the Step Activation function.\n",
        "    - Stops training if error drops below the threshold or max_epochs is reached.\n",
        "    \"\"\"\n",
        "    weights = np.array([10, 0.2, -0.75])  # Initial weights: Bias, W1, W2\n",
        "    errors = []  # List to store sum-squared errors per epoch\n",
        "\n",
        "    for epoch in range(max_epochs):\n",
        "        total_error = 0  # Sum of squared errors for all training samples\n",
        "\n",
        "        for i in range(len(data)):\n",
        "            x = np.insert(data[i], 0, 1)  # Add bias term to input\n",
        "            weighted_sum = summation(x, weights)  # Compute summation\n",
        "            output = activation_func(weighted_sum)  # Apply activation function\n",
        "            error = labels[i] - output  # Compute error\n",
        "            weights += learning_rate * error * x  # Update weights\n",
        "            total_error += compute_error(labels[i], output)  # Compute squared error\n",
        "\n",
        "        errors.append(total_error)  # Store error of this epoch\n",
        "\n",
        "        if total_error <= error_threshold:\n",
        "            break  # Stop if error threshold is met\n",
        "\n",
        "    return weights, errors, epoch\n",
        "\n",
        "# -----------------------------------------------\n",
        "# Train Perceptron for AND Gate\n",
        "# -----------------------------------------------\n",
        "and_data = np.array([[0, 0], [0, 1], [1, 0], [1, 1]])  # AND Gate Input\n",
        "and_labels = np.array([0, 0, 0, 1])  # AND Gate Output\n",
        "\n",
        "# Train the perceptron using Step Activation Function\n",
        "and_weights, and_errors, and_epochs = perceptron_train(and_data, and_labels, 0.05, step_activation)\n",
        "\n",
        "# -----------------------------------------------\n",
        "# Plot Error Convergence\n",
        "# -----------------------------------------------\n",
        "plt.plot(and_errors)\n",
        "plt.xlabel('Epochs')\n",
        "plt.ylabel('Sum-Square Error')\n",
        "plt.title('AND Gate Training Error Convergence')\n",
        "plt.grid(True)\n",
        "plt.show()\n",
        "\n",
        "# Print final weights and epochs\n",
        "print(f\"Final Weights: {and_weights}\")\n",
        "print(f\"Number of Epochs: {and_epochs}\")\n"
      ],
      "metadata": {
        "colab": {
          "base_uri": "https://localhost:8080/",
          "height": 507
        },
        "id": "99X0LPw6ZX0L",
        "outputId": "0f95b2c0-0b02-4b19-ca80-9ef39559d33c"
      },
      "execution_count": null,
      "outputs": [
        {
          "output_type": "display_data",
          "data": {
            "text/plain": [
              "<Figure size 640x480 with 1 Axes>"
            ],
            "image/png": "[encoded data removed]"
          },
          "metadata": {}
        },
        {
          "output_type": "stream",
          "name": "stdout",
          "text": [
            "Final Weights: [-0.1   0.1   0.05]\n",
            "Number of Epochs: 129\n"
          ]
        }
      ]
    },
    {
      "cell_type": "markdown",
      "source": [
        "Q3"
      ],
      "metadata": {
        "id": "TBHBgSBWaTZe"
      }
    },
    {
      "cell_type": "code",
      "source": [
        "import numpy as np\n",
        "import matplotlib.pyplot as plt\n",
        "\n",
        "# -----------------------------------------------\n",
        "# Activation Functions\n",
        "# -----------------------------------------------\n",
        "def bipolar_step_activation(x):\n",
        "    \"\"\"Bipolar Step Activation Function.\"\"\"\n",
        "    return 1 if x > 0 else -1\n",
        "\n",
        "def sigmoid_activation(x):\n",
        "    \"\"\"Sigmoid Activation Function.\"\"\"\n",
        "    return 1 / (1 + np.exp(-x))\n",
        "\n",
        "def relu_activation(x):\n",
        "    \"\"\"ReLU Activation Function.\"\"\"\n",
        "    return max(0, x)\n",
        "\n",
        "# -----------------------------------------------\n",
        "# Perceptron Training Function\n",
        "# -----------------------------------------------\n",
        "def perceptron_train(data, labels, learning_rate, activation_func, max_epochs=1000, error_threshold=0.002):\n",
        "    \"\"\"\n",
        "    Trains the perceptron using a given activation function.\n",
        "    - Stops training if error drops below the threshold or max_epochs is reached.\n",
        "    \"\"\"\n",
        "    weights = np.array([10, 0.2, -0.75])  # Initial weights: Bias, W1, W2\n",
        "    errors = []  # Stores sum-squared error per epoch\n",
        "\n",
        "    for epoch in range(max_epochs):\n",
        "        total_error = 0  # Sum of squared errors\n",
        "\n",
        "        for i in range(len(data)):\n",
        "            x = np.insert(data[i], 0, 1)  # Add bias term to input\n",
        "            weighted_sum = np.dot(x, weights)  # Compute summation\n",
        "            output = activation_func(weighted_sum)  # Apply activation function\n",
        "            error = labels[i] - output  # Compute error\n",
        "            weights += learning_rate * error * x  # Update weights\n",
        "            total_error += 0.5 * (error ** 2)  # Compute squared error\n",
        "\n",
        "        errors.append(total_error)  # Store error of this epoch\n",
        "\n",
        "        if total_error <= error_threshold:\n",
        "            break  # Stop if error threshold is met\n",
        "\n",
        "    return weights, errors, epoch\n",
        "\n",
        "# -----------------------------------------------\n",
        "# Train Perceptron for AND Gate using Different Activation Functions\n",
        "# -----------------------------------------------\n",
        "and_data = np.array([[0, 0], [0, 1], [1, 0], [1, 1]])  # AND Gate Input\n",
        "and_labels = np.array([0, 0, 0, 1])  # AND Gate Output\n",
        "\n",
        "activations = {\n",
        "    \"Bipolar Step\": bipolar_step_activation,\n",
        "    \"Sigmoid\": sigmoid_activation,\n",
        "    \"ReLU\": relu_activation\n",
        "}\n",
        "\n",
        "results = {}\n",
        "for name, activation_func in activations.items():\n",
        "    weights, errors, epochs = perceptron_train(and_data, and_labels, 0.05, activation_func)\n",
        "    results[name] = (weights, errors, epochs)\n",
        "\n",
        "# -----------------------------------------------\n",
        "# Plot Error Convergence for Different Activations\n",
        "# -----------------------------------------------\n",
        "plt.figure(figsize=(10, 5))\n",
        "for name, (_, errors, _) in results.items():\n",
        "    plt.plot(errors, label=name)\n",
        "\n",
        "plt.xlabel('Epochs')\n",
        "plt.ylabel('Sum-Square Error')\n",
        "plt.title('AND Gate Training Error Convergence for Different Activations')\n",
        "plt.legend()\n",
        "plt.grid(True)\n",
        "plt.show()\n",
        "\n",
        "# Print results\n",
        "for name, (weights, _, epochs) in results.items():\n",
        "    print(f\"{name}: Final Weights: {weights}, Epochs to Converge: {epochs}\")\n"
      ],
      "metadata": {
        "colab": {
          "base_uri": "https://localhost:8080/",
          "height": 539
        },
        "id": "levT2OsuaUcA",
        "outputId": "90e818c8-9132-4124-c954-728ef6c7f7fd"
      },
      "execution_count": null,
      "outputs": [
        {
          "output_type": "display_data",
          "data": {
            "text/plain": [
              "<Figure size 1000x500 with 1 Axes>"
            ],
            "image/png": "[encoded data removed]"
          },
          "metadata": {}
        },
        {
          "output_type": "stream",
          "name": "stdout",
          "text": [
            "Bipolar Step: Final Weights: [-0.1   0.1   0.05], Epochs to Converge: 999\n",
            "Sigmoid: Final Weights: [-6.13531308  3.97083321  3.96394835], Epochs to Converge: 999\n",
            "ReLU: Final Weights: [-0.89862162  0.93147464  0.92958169], Epochs to Converge: 352\n"
          ]
        }
      ]
    },
    {
      "cell_type": "markdown",
      "source": [
        "Q4"
      ],
      "metadata": {
        "id": "EPfvpxXga0lL"
      }
    },
    {
      "cell_type": "code",
      "source": [
        "learning_rates = [0.1, 0.2, 0.3, 0.4, 0.5, 0.6, 0.7, 0.8, 0.9, 1.0]\n",
        "convergence_epochs = []\n",
        "\n",
        "for lr in learning_rates:\n",
        "    _, _, epochs = perceptron_train(and_data, and_labels, lr, sigmoid_activation)\n",
        "    convergence_epochs.append(epochs)\n",
        "\n",
        "# -----------------------------------------------\n",
        "# Plot Learning Rate vs. Convergence Epochs\n",
        "# -----------------------------------------------\n",
        "plt.figure(figsize=(8, 5))\n",
        "plt.plot(learning_rates, convergence_epochs, marker='o', linestyle='-', color='b')\n",
        "plt.xlabel('Learning Rate')\n",
        "plt.ylabel('Epochs to Converge')\n",
        "plt.title('Effect of Learning Rate on Convergence')\n",
        "plt.grid(True)\n",
        "plt.show()\n",
        "\n",
        "# Print results\n",
        "for i, lr in enumerate(learning_rates):\n",
        "    print(f\"Learning Rate: {lr}, Epochs to Converge: {convergence_epochs[i]}\")\n"
      ],
      "metadata": {
        "colab": {
          "base_uri": "https://localhost:8080/",
          "height": 661
        },
        "id": "RubhYeWTa2Ou",
        "outputId": "5df22e48-2a76-4d99-cffc-9107421e5e5b"
      },
      "execution_count": null,
      "outputs": [
        {
          "output_type": "display_data",
          "data": {
            "text/plain": [
              "<Figure size 800x500 with 1 Axes>"
            ],
            "image/png": "[encoded data removed]"
          },
          "metadata": {}
        },
        {
          "output_type": "stream",
          "name": "stdout",
          "text": [
            "Learning Rate: 0.1, Epochs to Converge: 999\n",
            "Learning Rate: 0.2, Epochs to Converge: 817\n",
            "Learning Rate: 0.3, Epochs to Converge: 540\n",
            "Learning Rate: 0.4, Epochs to Converge: 402\n",
            "Learning Rate: 0.5, Epochs to Converge: 319\n",
            "Learning Rate: 0.6, Epochs to Converge: 264\n",
            "Learning Rate: 0.7, Epochs to Converge: 225\n",
            "Learning Rate: 0.8, Epochs to Converge: 195\n",
            "Learning Rate: 0.9, Epochs to Converge: 172\n",
            "Learning Rate: 1.0, Epochs to Converge: 153\n"
          ]
        }
      ]
    },
    {
      "cell_type": "markdown",
      "source": [
        "Q5"
      ],
      "metadata": {
        "id": "9sOW1frEa9tO"
      }
    },
    {
      "cell_type": "code",
      "source": [
        "# -----------------------------------------------\n",
        "# XOR Training Data\n",
        "# -----------------------------------------------\n",
        "xor_data = np.array([[0, 0], [0, 1], [1, 0], [1, 1]])  # XOR Gate Input\n",
        "xor_labels = np.array([0, 1, 1, 0])  # XOR Gate Output\n",
        "\n",
        "# -----------------------------------------------\n",
        "# Train a Multi-Layer Perceptron for XOR\n",
        "# -----------------------------------------------\n",
        "from sklearn.neural_network import MLPClassifier\n",
        "\n",
        "# Create MLP with 2 neurons in the hidden layer\n",
        "mlp = MLPClassifier(hidden_layer_sizes=(2,), activation='relu', solver='sgd', learning_rate_init=0.1, max_iter=10000)\n",
        "\n",
        "# Train the model\n",
        "mlp.fit(xor_data, xor_labels)\n",
        "\n",
        "# Test predictions\n",
        "xor_predictions = mlp.predict(xor_data)\n",
        "\n",
        "# Print Results\n",
        "print(f\"Predicted XOR Outputs: {xor_predictions}\")\n",
        "print(f\"Accuracy: {mlp.score(xor_data, xor_labels) * 100:.2f}%\")\n"
      ],
      "metadata": {
        "colab": {
          "base_uri": "https://localhost:8080/"
        },
        "id": "EaZIGV2jbCfg",
        "outputId": "dbf47ca1-8736-4bf8-9abd-3fba8591b14f"
      },
      "execution_count": null,
      "outputs": [
        {
          "output_type": "stream",
          "name": "stdout",
          "text": [
            "Predicted XOR Outputs: [0 1 0 1]\n",
            "Accuracy: 50.00%\n"
          ]
        }
      ]
    },
    {
      "cell_type": "markdown",
      "source": [
        "Q6"
      ],
      "metadata": {
        "id": "RvF9sEshbUiW"
      }
    },
    {
      "cell_type": "code",
      "source": [
        "import numpy as np\n",
        "import matplotlib.pyplot as plt\n",
        "\n",
        "# -----------------------------------------------\n",
        "# Activation Function - Sigmoid\n",
        "# -----------------------------------------------\n",
        "def sigmoid(x):\n",
        "    return 1 / (1 + np.exp(-x))\n",
        "\n",
        "# -----------------------------------------------\n",
        "# Perceptron Training Function\n",
        "# -----------------------------------------------\n",
        "def perceptron_train(data, labels, learning_rate=0.05, max_epochs=1000, error_threshold=0.002):\n",
        "    weights = np.random.rand(data.shape[1] + 1)  # Bias + Weights\n",
        "    errors = []  # Store error per epoch\n",
        "\n",
        "    for epoch in range(max_epochs):\n",
        "        total_error = 0\n",
        "\n",
        "        for i in range(len(data)):\n",
        "            x = np.insert(data[i], 0, 1)  # Add bias term\n",
        "            weighted_sum = np.dot(x, weights)  # Compute sum\n",
        "            output = sigmoid(weighted_sum)  # Apply activation\n",
        "            error = labels[i] - output  # Compute error\n",
        "            weights += learning_rate * error * x  # Update weights\n",
        "            total_error += 0.5 * (error ** 2)  # Squared error\n",
        "\n",
        "        errors.append(total_error)\n",
        "\n",
        "        if total_error <= error_threshold:\n",
        "            break\n",
        "\n",
        "    return weights, errors, epoch\n",
        "\n",
        "# -----------------------------------------------\n",
        "# Customer Data\n",
        "# -----------------------------------------------\n",
        "data = np.array([\n",
        "    [20, 6, 2, 386],\n",
        "    [16, 3, 6, 289],\n",
        "    [27, 6, 2, 393],\n",
        "    [19, 1, 2, 110],\n",
        "    [24, 4, 2, 280],\n",
        "    [22, 1, 5, 167],\n",
        "    [15, 4, 2, 271],\n",
        "    [18, 4, 2, 274],\n",
        "    [21, 1, 4, 148],\n",
        "    [16, 2, 4, 198]\n",
        "])\n",
        "\n",
        "labels = np.array([1, 1, 1, 0, 1, 0, 1, 1, 0, 0])  # High Value Tx? (Yes=1, No=0)\n",
        "\n",
        "# -----------------------------------------------\n",
        "# Train Perceptron\n",
        "# -----------------------------------------------\n",
        "learning_rate = 0.05\n",
        "weights, errors, epochs = perceptron_train(data, labels, learning_rate)\n",
        "\n",
        "# -----------------------------------------------\n",
        "# Plot Training Error\n",
        "# -----------------------------------------------\n",
        "plt.plot(errors)\n",
        "plt.xlabel('Epochs')\n",
        "plt.ylabel('Sum-Square Error')\n",
        "plt.title('Perceptron Training Error Convergence')\n",
        "plt.grid(True)\n",
        "plt.show()\n",
        "\n",
        "# -----------------------------------------------\n",
        "# Test Predictions\n",
        "# -----------------------------------------------\n",
        "predictions = []\n",
        "for i in range(len(data)):\n",
        "    x = np.insert(data[i], 0, 1)\n",
        "    output = sigmoid(np.dot(x, weights))\n",
        "    predicted_class = 1 if output >= 0.5 else 0  # Threshold at 0.5\n",
        "    predictions.append(predicted_class)\n",
        "\n",
        "# Print Results\n",
        "print(f\"Final Weights: {weights}\")\n",
        "print(f\"Epochs to Converge: {epochs}\")\n",
        "print(f\"Predicted High Value Transactions: {predictions}\")\n",
        "print(f\"Accuracy: {np.mean(predictions == labels) * 100:.2f}%\")\n"
      ],
      "metadata": {
        "colab": {
          "base_uri": "https://localhost:8080/",
          "height": 576
        },
        "id": "I3YEO1FobVdp",
        "outputId": "f2f1fc39-733a-4ec7-8191-ba1fe8434d9a"
      },
      "execution_count": null,
      "outputs": [
        {
          "output_type": "stream",
          "name": "stderr",
          "text": [
            "<ipython-input-15-844df74c28cc>:8: RuntimeWarning: overflow encountered in exp\n",
            "  return 1 / (1 + np.exp(-x))\n"
          ]
        },
        {
          "output_type": "display_data",
          "data": {
            "text/plain": [
              "<Figure size 640x480 with 1 Axes>"
            ],
            "image/png": "[encoded data removed]"
          },
          "metadata": {}
        },
        {
          "output_type": "stream",
          "name": "stdout",
          "text": [
            "Final Weights: [ -22.60906076 -290.97696681   49.2390603  -130.57753608   25.71330427]\n",
            "Epochs to Converge: 755\n",
            "Predicted High Value Transactions: [1, 1, 1, 0, 1, 0, 1, 1, 0, 0]\n",
            "Accuracy: 100.00%\n"
          ]
        }
      ]
    },
    {
      "cell_type": "markdown",
      "source": [
        "Q7"
      ],
      "metadata": {
        "id": "mB6KH6_NbcDM"
      }
    },
    {
      "cell_type": "code",
      "source": [
        "# -----------------------------------------------\n",
        "# Matrix Pseudo-Inverse Method\n",
        "# -----------------------------------------------\n",
        "X = np.hstack((np.ones((data.shape[0], 1)), data))  # Add bias column\n",
        "Y = labels.reshape(-1, 1)  # Reshape to column vector\n",
        "\n",
        "# Compute Weights using Moore-Penrose Pseudo-Inverse\n",
        "pseudo_inverse_weights = np.linalg.pinv(X) @ Y\n",
        "\n",
        "# Predictions using Pseudo-Inverse\n",
        "pseudo_predictions = (X @ pseudo_inverse_weights >= 0.5).astype(int).flatten()\n",
        "\n",
        "# Print Results\n",
        "print(f\"Pseudo-Inverse Weights: {pseudo_inverse_weights.flatten()}\")\n",
        "print(f\"Predicted High Value Transactions (Pseudo-Inverse): {pseudo_predictions}\")\n",
        "print(f\"Pseudo-Inverse Accuracy: {np.mean(pseudo_predictions == labels) * 100:.2f}%\")\n"
      ],
      "metadata": {
        "colab": {
          "base_uri": "https://localhost:8080/"
        },
        "id": "RUa-dCRjbdPM",
        "outputId": "d80b207b-fa3c-41f8-c74c-b532d18ce5d4"
      },
      "execution_count": null,
      "outputs": [
        {
          "output_type": "stream",
          "name": "stdout",
          "text": [
            "Pseudo-Inverse Weights: [ 0.1139903  -0.02789923  0.01473739 -0.04323249  0.00447248]\n",
            "Predicted High Value Transactions (Pseudo-Inverse): [1 1 1 0 1 0 1 1 0 0]\n",
            "Pseudo-Inverse Accuracy: 100.00%\n"
          ]
        }
      ]
    },
    {
      "cell_type": "markdown",
      "source": [
        "Q8"
      ],
      "metadata": {
        "id": "xfkXTL0BbiY-"
      }
    },
    {
      "cell_type": "code",
      "source": [
        "import numpy as np\n",
        "\n",
        "# Sigmoid activation function and its derivative\n",
        "def sigmoid(x):\n",
        "    return 1 / (1 + np.exp(-x))\n",
        "\n",
        "def sigmoid_derivative(x):\n",
        "    return x * (1 - x)\n",
        "\n",
        "# Input and expected output for AND Gate\n",
        "X = np.array([[0, 0], [0, 1], [1, 0], [1, 1]])  # Input\n",
        "Y = np.array([[0], [0], [0], [1]])  # Expected Output\n",
        "\n",
        "# Initialize weights randomly\n",
        "np.random.seed(1)\n",
        "input_neurons = 2\n",
        "hidden_neurons = 2\n",
        "output_neurons = 1\n",
        "learning_rate = 0.05\n",
        "\n",
        "# Weight initialization\n",
        "W1 = np.random.uniform(-0.5, 0.5, (input_neurons, hidden_neurons))\n",
        "b1 = np.random.uniform(-0.5, 0.5, (1, hidden_neurons))\n",
        "W2 = np.random.uniform(-0.5, 0.5, (hidden_neurons, output_neurons))\n",
        "b2 = np.random.uniform(-0.5, 0.5, (1, output_neurons))\n",
        "\n",
        "# Training loop\n",
        "max_iterations = 1000\n",
        "for epoch in range(max_iterations):\n",
        "    # Forward Propagation\n",
        "    hidden_input = np.dot(X, W1) + b1\n",
        "    hidden_output = sigmoid(hidden_input)\n",
        "\n",
        "    final_input = np.dot(hidden_output, W2) + b2\n",
        "    final_output = sigmoid(final_input)\n",
        "\n",
        "    # Calculate error\n",
        "    error = Y - final_output\n",
        "    mse = np.mean(np.square(error))\n",
        "\n",
        "    # Backpropagation\n",
        "    d_output = error * sigmoid_derivative(final_output)\n",
        "    d_hidden = d_output.dot(W2.T) * sigmoid_derivative(hidden_output)\n",
        "\n",
        "    # Update weights and biases\n",
        "    W2 += hidden_output.T.dot(d_output) * learning_rate\n",
        "    b2 += np.sum(d_output, axis=0, keepdims=True) * learning_rate\n",
        "    W1 += X.T.dot(d_hidden) * learning_rate\n",
        "    b1 += np.sum(d_hidden, axis=0, keepdims=True) * learning_rate\n",
        "\n",
        "    # Stopping condition\n",
        "    if mse <= 0.002:\n",
        "        print(f\"Converged at epoch {epoch}\")\n",
        "        break\n",
        "\n",
        "# Final Output\n",
        "print(\"Final Output after Training:\")\n",
        "print(final_output.round())\n"
      ],
      "metadata": {
        "colab": {
          "base_uri": "https://localhost:8080/"
        },
        "id": "gohRbEOpbk35",
        "outputId": "2fd33f29-ee44-4499-e98c-de9a198b4f62"
      },
      "execution_count": null,
      "outputs": [
        {
          "output_type": "stream",
          "name": "stdout",
          "text": [
            "Final Output after Training:\n",
            "[[0.]\n",
            " [0.]\n",
            " [0.]\n",
            " [0.]]\n"
          ]
        }
      ]
    },
    {
      "cell_type": "markdown",
      "source": [
        "Q9"
      ],
      "metadata": {
        "id": "HrDU9NQdcOvI"
      }
    },
    {
      "cell_type": "code",
      "source": [
        "# Input and expected output for XOR Gate\n",
        "X_xor = np.array([[0, 0], [0, 1], [1, 0], [1, 1]])  # Input\n",
        "Y_xor = np.array([[0], [1], [1], [0]])  # Expected Output\n",
        "\n",
        "# Initialize new weights randomly\n",
        "W1_xor = np.random.uniform(-0.5, 0.5, (input_neurons, hidden_neurons))\n",
        "b1_xor = np.random.uniform(-0.5, 0.5, (1, hidden_neurons))\n",
        "W2_xor = np.random.uniform(-0.5, 0.5, (hidden_neurons, output_neurons))\n",
        "b2_xor = np.random.uniform(-0.5, 0.5, (1, output_neurons))\n",
        "\n",
        "# Training loop\n",
        "for epoch in range(max_iterations):\n",
        "    # Forward Propagation\n",
        "    hidden_input = np.dot(X_xor, W1_xor) + b1_xor\n",
        "    hidden_output = sigmoid(hidden_input)\n",
        "\n",
        "    final_input = np.dot(hidden_output, W2_xor) + b2_xor\n",
        "    final_output = sigmoid(final_input)\n",
        "\n",
        "    # Calculate error\n",
        "    error = Y_xor - final_output\n",
        "    mse = np.mean(np.square(error))\n",
        "\n",
        "    # Backpropagation\n",
        "    d_output = error * sigmoid_derivative(final_output)\n",
        "    d_hidden = d_output.dot(W2_xor.T) * sigmoid_derivative(hidden_output)\n",
        "\n",
        "    # Update weights and biases\n",
        "    W2_xor += hidden_output.T.dot(d_output) * learning_rate\n",
        "    b2_xor += np.sum(d_output, axis=0, keepdims=True) * learning_rate\n",
        "    W1_xor += X_xor.T.dot(d_hidden) * learning_rate\n",
        "    b1_xor += np.sum(d_hidden, axis=0, keepdims=True) * learning_rate\n",
        "\n",
        "    # Stopping condition\n",
        "    if mse <= 0.002:\n",
        "        print(f\"Converged at epoch {epoch}\")\n",
        "        break\n",
        "\n",
        "# Final Output\n",
        "print(\"Final XOR Output after Training:\")\n",
        "print(final_output.round())\n"
      ],
      "metadata": {
        "colab": {
          "base_uri": "https://localhost:8080/"
        },
        "id": "w2ulkK1AcXoC",
        "outputId": "8ea255f6-4ce2-4616-ae7c-7d37e8b0665d"
      },
      "execution_count": null,
      "outputs": [
        {
          "output_type": "stream",
          "name": "stdout",
          "text": [
            "Final XOR Output after Training:\n",
            "[[0.]\n",
            " [1.]\n",
            " [0.]\n",
            " [1.]]\n"
          ]
        }
      ]
    },
    {
      "cell_type": "markdown",
      "source": [
        "Q10"
      ],
      "metadata": {
        "id": "_wpcOwOPc5Ji"
      }
    },
    {
      "cell_type": "code",
      "source": [
        "import numpy as np\n",
        "\n",
        "# Sigmoid activation function and its derivative\n",
        "def sigmoid(x):\n",
        "    return 1 / (1 + np.exp(-x))\n",
        "\n",
        "def sigmoid_derivative(x):\n",
        "    return x * (1 - x)\n",
        "\n",
        "# Input and expected output (One-Hot Encoded)\n",
        "X = np.array([[0, 0], [0, 1], [1, 0], [1, 1]])  # Inputs\n",
        "Y_and = np.array([[1, 0], [1, 0], [1, 0], [0, 1]])  # AND Gate One-Hot Output\n",
        "Y_xor = np.array([[1, 0], [0, 1], [0, 1], [1, 0]])  # XOR Gate One-Hot Output\n",
        "\n",
        "# Initialize weights randomly\n",
        "np.random.seed(1)\n",
        "input_neurons = 2\n",
        "hidden_neurons = 2\n",
        "output_neurons = 2\n",
        "learning_rate = 0.05\n",
        "\n",
        "# Random weights and biases\n",
        "W1 = np.random.uniform(-0.5, 0.5, (input_neurons, hidden_neurons))\n",
        "b1 = np.random.uniform(-0.5, 0.5, (1, hidden_neurons))\n",
        "W2 = np.random.uniform(-0.5, 0.5, (hidden_neurons, output_neurons))\n",
        "b2 = np.random.uniform(-0.5, 0.5, (1, output_neurons))\n",
        "\n",
        "# Training loop\n",
        "max_iterations = 1000\n",
        "for epoch in range(max_iterations):\n",
        "    # Forward Propagation\n",
        "    hidden_input = np.dot(X, W1) + b1\n",
        "    hidden_output = sigmoid(hidden_input)\n",
        "\n",
        "    final_input = np.dot(hidden_output, W2) + b2\n",
        "    final_output = sigmoid(final_input)\n",
        "\n",
        "    # Calculate error\n",
        "    error = Y_and - final_output\n",
        "    mse = np.mean(np.square(error))\n",
        "\n",
        "    # Backpropagation\n",
        "    d_output = error * sigmoid_derivative(final_output)\n",
        "    d_hidden = d_output.dot(W2.T) * sigmoid_derivative(hidden_output)\n",
        "\n",
        "    # Update weights and biases\n",
        "    W2 += hidden_output.T.dot(d_output) * learning_rate\n",
        "    b2 += np.sum(d_output, axis=0, keepdims=True) * learning_rate\n",
        "    W1 += X.T.dot(d_hidden) * learning_rate\n",
        "    b1 += np.sum(d_hidden, axis=0, keepdims=True) * learning_rate\n",
        "\n",
        "    if mse <= 0.002:\n",
        "        print(f\"Converged at epoch {epoch}\")\n",
        "        break\n",
        "\n",
        "# Final Output\n",
        "print(\"Final Output for AND Gate:\")\n",
        "print(final_output.round())\n",
        "\n",
        "# Repeat for XOR Gate\n",
        "Y = Y_xor  # Change expected output\n"
      ],
      "metadata": {
        "colab": {
          "base_uri": "https://localhost:8080/"
        },
        "id": "39Ei8o1Ac6Tj",
        "outputId": "aaa65bb7-95fe-4673-f718-99bf0fc45408"
      },
      "execution_count": null,
      "outputs": [
        {
          "output_type": "stream",
          "name": "stdout",
          "text": [
            "Final Output for AND Gate:\n",
            "[[1. 0.]\n",
            " [1. 0.]\n",
            " [1. 0.]\n",
            " [1. 0.]]\n"
          ]
        }
      ]
    },
    {
      "cell_type": "markdown",
      "source": [
        "Q11"
      ],
      "metadata": {
        "id": "oMA_FtDCdWY1"
      }
    },
    {
      "cell_type": "code",
      "source": [
        "from sklearn.neural_network import MLPClassifier\n",
        "from sklearn.metrics import accuracy_score\n",
        "\n",
        "# One-hot encoded output\n",
        "Y_and = np.array([[1, 0], [1, 0], [1, 0], [0, 1]])  # AND\n",
        "Y_xor = np.array([[1, 0], [0, 1], [0, 1], [1, 0]])  # XOR\n",
        "\n",
        "# MLP Classifier Model\n",
        "mlp = MLPClassifier(hidden_layer_sizes=(2,), activation='logistic', solver='lbfgs', max_iter=1000)\n",
        "\n",
        "# Train & Test for AND Gate\n",
        "mlp.fit(X, Y_and)\n",
        "Y_pred_and = mlp.predict(X)\n",
        "print(\"AND Gate Output (MLPClassifier):\\n\", Y_pred_and)\n",
        "\n",
        "# Train & Test for XOR Gate\n",
        "mlp.fit(X, Y_xor)\n",
        "Y_pred_xor = mlp.predict(X)\n",
        "print(\"XOR Gate Output (MLPClassifier):\\n\", Y_pred_xor)\n",
        "\n",
        "# Accuracy\n",
        "print(\"Accuracy (AND):\", accuracy_score(Y_and, Y_pred_and))\n",
        "print(\"Accuracy (XOR):\", accuracy_score(Y_xor, Y_pred_xor))\n"
      ],
      "metadata": {
        "colab": {
          "base_uri": "https://localhost:8080/"
        },
        "id": "1_rfY_vRdYl7",
        "outputId": "f1ca5e0a-416a-456c-ee76-7ae5ecf7469e"
      },
      "execution_count": null,
      "outputs": [
        {
          "output_type": "stream",
          "name": "stdout",
          "text": [
            "AND Gate Output (MLPClassifier):\n",
            " [[1 0]\n",
            " [1 0]\n",
            " [1 0]\n",
            " [0 1]]\n",
            "XOR Gate Output (MLPClassifier):\n",
            " [[1 0]\n",
            " [0 1]\n",
            " [0 1]\n",
            " [1 0]]\n",
            "Accuracy (AND): 1.0\n",
            "Accuracy (XOR): 1.0\n"
          ]
        }
      ]
    },
    {
      "cell_type": "markdown",
      "source": [
        "Q12"
      ],
      "metadata": {
        "id": "EtftIOJDdcFn"
      }
    },
    {
      "cell_type": "code",
      "source": [
        "# Import required libraries\n",
        "import pandas as pd\n",
        "import numpy as np\n",
        "import matplotlib.pyplot as plt\n",
        "from sklearn.model_selection import train_test_split\n",
        "from sklearn.preprocessing import StandardScaler\n",
        "from sklearn.neural_network import MLPClassifier\n",
        "from sklearn.metrics import accuracy_score, classification_report, confusion_matrix\n",
        "\n",
        "# Upload dataset manually in Google Colab\n",
        "from google.colab import files\n",
        "uploaded = files.upload()  # This will prompt file selection\n",
        "\n",
        "# Load dataset (Assuming it is in CSV format)\n",
        "file_name = list(uploaded.keys())[0]  # Get the uploaded file name\n",
        "df = pd.read_csv(file_name)\n",
        "\n",
        "# Display first few rows\n",
        "print(\"Dataset Preview:\")\n",
        "print(df.head())\n",
        "\n",
        "# Assume last column is the target, all others are features\n",
        "X = df.iloc[:, :-1].values\n",
        "Y = df.iloc[:, -1].values\n",
        "\n",
        "# Normalize features using StandardScaler\n",
        "scaler = StandardScaler()\n",
        "X_scaled = scaler.fit_transform(X)\n",
        "\n",
        "# Split data into training and testing sets\n",
        "X_train, X_test, Y_train, Y_test = train_test_split(X_scaled, Y, test_size=0.2, random_state=42)\n",
        "\n",
        "# Initialize and train MLPClassifier\n",
        "mlp_model = MLPClassifier(hidden_layer_sizes=(10,), activation='relu', solver='adam', max_iter=1000, random_state=42)\n",
        "mlp_model.fit(X_train, Y_train)\n",
        "\n",
        "# Make predictions\n",
        "Y_pred = mlp_model.predict(X_test)\n",
        "\n",
        "# Evaluate the model\n",
        "accuracy = accuracy_score(Y_test, Y_pred)\n",
        "print(\"\\nModel Accuracy:\", accuracy)\n",
        "print(\"\\nClassification Report:\\n\", classification_report(Y_test, Y_pred))\n",
        "\n",
        "# Confusion Matrix\n",
        "conf_matrix = confusion_matrix(Y_test, Y_pred)\n",
        "print(\"\\nConfusion Matrix:\\n\", conf_matrix)\n",
        "\n",
        "# Plot the confusion matrix\n",
        "plt.figure(figsize=(5,4))\n",
        "plt.imshow(conf_matrix, cmap='Blues', interpolation='nearest')\n",
        "plt.colorbar()\n",
        "plt.xlabel(\"Predicted Labels\")\n",
        "plt.ylabel(\"True Labels\")\n",
        "plt.title(\"Confusion Matrix\")\n",
        "plt.show()\n"
      ],
      "metadata": {
        "colab": {
          "base_uri": "https://localhost:8080/",
          "height": 1000
        },
        "id": "2XlE_CRfddBZ",
        "outputId": "ffb443ae-97b8-41ce-c590-85c6d76d606b"
      },
      "execution_count": null,
      "outputs": [
        {
          "output_type": "display_data",
          "data": {
            "text/plain": [
              "<IPython.core.display.HTML object>"
            ],
            "text/html": [
              "\n",
              "     <input type=\"file\" id=\"files-90e12a7f-2c4c-47fc-8565-f221a6c0b6b4\" name=\"files[]\" multiple disabled\n",
              "        style=\"border:none\" />\n",
              "     <output id=\"result-90e12a7f-2c4c-47fc-8565-f221a6c0b6b4\">\n",
              "      Upload widget is only available when the cell has been executed in the\n",
              "      current browser session. Please rerun this cell to enable.\n",
              "      </output>\n",
              "      <script>// Copyright 2017 Google LLC\n",
              "//\n",
              "// Licensed under the Apache License, Version 2.0 (the \"License\");\n",
              "// you may not use this file except in compliance with the License.\n",
              "// You may obtain a copy of the License at\n",
              "//\n",
              "//      http://www.apache.org/licenses/LICENSE-2.0\n",
              "//\n",
              "// Unless required by applicable law or agreed to in writing, software\n",
              "// distributed under the License is distributed on an \"AS IS\" BASIS,\n",
              "// WITHOUT WARRANTIES OR CONDITIONS OF ANY KIND, either express or implied.\n",
              "// See the License for the specific language governing permissions and\n",
              "// limitations under the License.\n",
              "\n",
              "/**\n",
              " * @fileoverview Helpers for google.colab Python module.\n",
              " */\n",
              "(function(scope) {\n",
              "function span(text, styleAttributes = {}) {\n",
              "  const element = document.createElement('span');\n",
              "  element.textContent = text;\n",
              "  for (const key of Object.keys(styleAttributes)) {\n",
              "    element.style[key] = styleAttributes[key];\n",
              "  }\n",
              "  return element;\n",
              "}\n",
              "\n",
              "// Max number of bytes which will be uploaded at a time.\n",
              "const MAX_PAYLOAD_SIZE = 100 * 1024;\n",
              "\n",
              "function _uploadFiles(inputId, outputId) {\n",
              "  const steps = uploadFilesStep(inputId, outputId);\n",
              "  const outputElement = document.getElementById(outputId);\n",
              "  // Cache steps on the outputElement to make it available for the next call\n",
              "  // to uploadFilesContinue from Python.\n",
              "  outputElement.steps = steps;\n",
              "\n",
              "  return _uploadFilesContinue(outputId);\n",
              "}\n",
              "\n",
              "// This is roughly an async generator (not supported in the browser yet),\n",
              "// where there are multiple asynchronous steps and the Python side is going\n",
              "// to poll for completion of each step.\n",
              "// This uses a Promise to block the python side on completion of each step,\n",
              "// then passes the result of the previous step as the input to the next step.\n",
              "function _uploadFilesContinue(outputId) {\n",
              "  const outputElement = document.getElementById(outputId);\n",
              "  const steps = outputElement.steps;\n",
              "\n",
              "  const next = steps.next(outputElement.lastPromiseValue);\n",
              "  return Promise.resolve(next.value.promise).then((value) => {\n",
              "    // Cache the last promise value to make it available to the next\n",
              "    // step of the generator.\n",
              "    outputElement.lastPromiseValue = value;\n",
              "    return next.value.response;\n",
              "  });\n",
              "}\n",
              "\n",
              "/**\n",
              " * Generator function which is called between each async step of the upload\n",
              " * process.\n",
              " * @param {string} inputId Element ID of the input file picker element.\n",
              " * @param {string} outputId Element ID of the output display.\n",
              " * @return {!Iterable<!Object>} Iterable of next steps.\n",
              " */\n",
              "function* uploadFilesStep(inputId, outputId) {\n",
              "  const inputElement = document.getElementById(inputId);\n",
              "  inputElement.disabled = false;\n",
              "\n",
              "  const outputElement = document.getElementById(outputId);\n",
              "  outputElement.innerHTML = '';\n",
              "\n",
              "  const pickedPromise = new Promise((resolve) => {\n",
              "    inputElement.addEventListener('change', (e) => {\n",
              "      resolve(e.target.files);\n",
              "    });\n",
              "  });\n",
              "\n",
              "  const cancel = document.createElement('button');\n",
              "  inputElement.parentElement.appendChild(cancel);\n",
              "  cancel.textContent = 'Cancel upload';\n",
              "  const cancelPromise = new Promise((resolve) => {\n",
              "    cancel.onclick = () => {\n",
              "      resolve(null);\n",
              "    };\n",
              "  });\n",
              "\n",
              "  // Wait for the user to pick the files.\n",
              "  const files = yield {\n",
              "    promise: Promise.race([pickedPromise, cancelPromise]),\n",
              "    response: {\n",
              "      action: 'starting',\n",
              "    }\n",
              "  };\n",
              "\n",
              "  cancel.remove();\n",
              "\n",
              "  // Disable the input element since further picks are not allowed.\n",
              "  inputElement.disabled = true;\n",
              "\n",
              "  if (!files) {\n",
              "    return {\n",
              "      response: {\n",
              "        action: 'complete',\n",
              "      }\n",
              "    };\n",
              "  }\n",
              "\n",
              "  for (const file of files) {\n",
              "    const li = document.createElement('li');\n",
              "    li.append(span(file.name, {fontWeight: 'bold'}));\n",
              "    li.append(span(\n",
              "        `(${file.type || 'n/a'}) - ${file.size} bytes, ` +\n",
              "        `last modified: ${\n",
              "            file.lastModifiedDate ? file.lastModifiedDate.toLocaleDateString() :\n",
              "                                    'n/a'} - `));\n",
              "    const percent = span('0% done');\n",
              "    li.appendChild(percent);\n",
              "\n",
              "    outputElement.appendChild(li);\n",
              "\n",
              "    const fileDataPromise = new Promise((resolve) => {\n",
              "      const reader = new FileReader();\n",
              "      reader.onload = (e) => {\n",
              "        resolve(e.target.result);\n",
              "      };\n",
              "      reader.readAsArrayBuffer(file);\n",
              "    });\n",
              "    // Wait for the data to be ready.\n",
              "    let fileData = yield {\n",
              "      promise: fileDataPromise,\n",
              "      response: {\n",
              "        action: 'continue',\n",
              "      }\n",
              "    };\n",
              "\n",
              "    // Use a chunked sending to avoid message size limits. See b/62115660.\n",
              "    let position = 0;\n",
              "    do {\n",
              "      const length = Math.min(fileData.byteLength - position, MAX_PAYLOAD_SIZE);\n",
              "      const chunk = new Uint8Array(fileData, position, length);\n",
              "      position += length;\n",
              "\n",
              "      const base64 = btoa(String.fromCharCode.apply(null, chunk));\n",
              "      yield {\n",
              "        response: {\n",
              "          action: 'append',\n",
              "          file: file.name,\n",
              "          data: base64,\n",
              "        },\n",
              "      };\n",
              "\n",
              "      let percentDone = fileData.byteLength === 0 ?\n",
              "          100 :\n",
              "          Math.round((position / fileData.byteLength) * 100);\n",
              "      percent.textContent = `${percentDone}% done`;\n",
              "\n",
              "    } while (position < fileData.byteLength);\n",
              "  }\n",
              "\n",
              "  // All done.\n",
              "  yield {\n",
              "    response: {\n",
              "      action: 'complete',\n",
              "    }\n",
              "  };\n",
              "}\n",
              "\n",
              "scope.google = scope.google || {};\n",
              "scope.google.colab = scope.google.colab || {};\n",
              "scope.google.colab._files = {\n",
              "  _uploadFiles,\n",
              "  _uploadFilesContinue,\n",
              "};\n",
              "})(self);\n",
              "</script> "
            ]
          },
          "metadata": {}
        },
        {
          "output_type": "stream",
          "name": "stdout",
          "text": [
            "Saving DCT_withoutduplicate 6 1 1.csv to DCT_withoutduplicate 6 1 1 (1).csv\n",
            "Dataset Preview:\n",
            "             0           1           2            3           4            5  \\\n",
            "0  38687.88477  192.737565  188.366005  2348.285240  188.609889  3359.777672   \n",
            "1  29532.98806  -54.124623  -22.492524  1648.326090   35.160362  1980.716201   \n",
            "2  29511.41174  -54.495937  -25.026162  1658.645198   34.814464  2008.855279   \n",
            "3  29060.40637  -19.466804  -11.668273  1487.612245    7.675333  1788.287900   \n",
            "4  29039.93589  -19.725400   -9.218980  1497.054471    8.947552  1815.189691   \n",
            "\n",
            "            6           7          8           9  ...         187         188  \\\n",
            "0 -454.999177 -201.722600 -42.369585 -277.176688  ...  225.163042  375.848590   \n",
            "1  144.818556   38.937042  56.479929   79.150981  ... -110.815428 -112.520155   \n",
            "2  145.774409   42.363949  56.631487   84.338212  ... -111.628888 -113.504989   \n",
            "3   49.023922   24.901637  47.767988   42.011626  ...   -5.242054  -79.615224   \n",
            "4   49.680814   22.071049  48.720409   37.361647  ...   -5.661566  -82.903805   \n",
            "\n",
            "          189         190        191         192         193         194  \\\n",
            "0  -25.502103 -323.360801 -37.705123 -210.361583 -107.039989 -180.598400   \n",
            "1   80.464341   62.949615 -41.839087   35.049056  -90.838441   81.998960   \n",
            "2   80.598537   64.218283 -42.996801   35.926709  -94.681206   82.389334   \n",
            "3  165.018166  177.905061 -50.329188   88.189776  -56.963265  -63.527378   \n",
            "4  166.929649  179.234546 -53.045528   88.144964  -60.471382  -63.239210   \n",
            "\n",
            "          195  LABEL  \n",
            "0 -151.319809   3333  \n",
            "1  -92.591774   3333  \n",
            "2  -98.420772   3333  \n",
            "3   14.576799   3333  \n",
            "4   13.008128   3333  \n",
            "\n",
            "[5 rows x 197 columns]\n"
          ]
        },
        {
          "output_type": "stream",
          "name": "stderr",
          "text": [
            "/usr/local/lib/python3.11/dist-packages/sklearn/neural_network/_multilayer_perceptron.py:691: ConvergenceWarning: Stochastic Optimizer: Maximum iterations (1000) reached and the optimization hasn't converged yet.\n",
            "  warnings.warn(\n",
            "/usr/local/lib/python3.11/dist-packages/sklearn/metrics/_classification.py:1565: UndefinedMetricWarning: Precision is ill-defined and being set to 0.0 in labels with no predicted samples. Use `zero_division` parameter to control this behavior.\n",
            "  _warn_prf(average, modifier, f\"{metric.capitalize()} is\", len(result))\n",
            "/usr/local/lib/python3.11/dist-packages/sklearn/metrics/_classification.py:1565: UndefinedMetricWarning: Recall is ill-defined and being set to 0.0 in labels with no true samples. Use `zero_division` parameter to control this behavior.\n",
            "  _warn_prf(average, modifier, f\"{metric.capitalize()} is\", len(result))\n",
            "/usr/local/lib/python3.11/dist-packages/sklearn/metrics/_classification.py:1565: UndefinedMetricWarning: Precision is ill-defined and being set to 0.0 in labels with no predicted samples. Use `zero_division` parameter to control this behavior.\n",
            "  _warn_prf(average, modifier, f\"{metric.capitalize()} is\", len(result))\n",
            "/usr/local/lib/python3.11/dist-packages/sklearn/metrics/_classification.py:1565: UndefinedMetricWarning: Recall is ill-defined and being set to 0.0 in labels with no true samples. Use `zero_division` parameter to control this behavior.\n",
            "  _warn_prf(average, modifier, f\"{metric.capitalize()} is\", len(result))\n",
            "/usr/local/lib/python3.11/dist-packages/sklearn/metrics/_classification.py:1565: UndefinedMetricWarning: Precision is ill-defined and being set to 0.0 in labels with no predicted samples. Use `zero_division` parameter to control this behavior.\n",
            "  _warn_prf(average, modifier, f\"{metric.capitalize()} is\", len(result))\n",
            "/usr/local/lib/python3.11/dist-packages/sklearn/metrics/_classification.py:1565: UndefinedMetricWarning: Recall is ill-defined and being set to 0.0 in labels with no true samples. Use `zero_division` parameter to control this behavior.\n",
            "  _warn_prf(average, modifier, f\"{metric.capitalize()} is\", len(result))\n"
          ]
        },
        {
          "output_type": "stream",
          "name": "stdout",
          "text": [
            "\n",
            "Model Accuracy: 0.7511111111111111\n",
            "\n",
            "Classification Report:\n",
            "               precision    recall  f1-score   support\n",
            "\n",
            "        3333       0.44      0.44      0.44         9\n",
            "        3334       0.88      1.00      0.93         7\n",
            "        3335       1.00      0.92      0.96        13\n",
            "        3337       0.83      1.00      0.91         5\n",
            "        3342       0.93      0.93      0.93        15\n",
            "        3343       0.00      0.00      0.00         1\n",
            "        3346       0.64      0.88      0.74         8\n",
            "        3349       0.88      0.67      0.76        21\n",
            "        3350       0.00      0.00      0.00         1\n",
            "        3351       0.32      1.00      0.48         7\n",
            "        3352       0.00      0.00      0.00        15\n",
            "        3353       1.00      0.92      0.96        13\n",
            "        3354       0.80      0.75      0.77        16\n",
            "        3355       0.00      0.00      0.00         0\n",
            "        3356       0.80      0.67      0.73         6\n",
            "        3357       0.00      0.00      0.00         1\n",
            "        3358       0.00      0.00      0.00         1\n",
            "        3359       0.89      0.94      0.91        17\n",
            "        3360       0.67      0.86      0.75         7\n",
            "        3361       1.00      1.00      1.00         3\n",
            "        3362       1.00      1.00      1.00         3\n",
            "        3363       0.80      0.80      0.80        10\n",
            "        3364       0.27      0.60      0.38         5\n",
            "        3365       0.67      0.50      0.57         4\n",
            "        3366       0.86      0.75      0.80         8\n",
            "        3367       0.62      0.83      0.71         6\n",
            "        3368       0.76      0.72      0.74        18\n",
            "        3370       0.71      0.71      0.71         7\n",
            "        3371       0.50      1.00      0.67         3\n",
            "        3372       0.62      1.00      0.77         5\n",
            "        3373       0.85      0.92      0.88        12\n",
            "        3374       0.63      0.85      0.72        20\n",
            "        3375       0.90      0.64      0.75        14\n",
            "        3376       0.93      0.57      0.70        23\n",
            "        3377       0.79      0.73      0.76        15\n",
            "        3378       0.50      0.67      0.57         9\n",
            "        3379       0.83      0.71      0.77         7\n",
            "        3380       1.00      1.00      1.00         2\n",
            "        3381       0.83      0.71      0.77        14\n",
            "        3382       0.60      0.60      0.60        10\n",
            "        3383       0.57      0.57      0.57        14\n",
            "        3384       1.00      0.76      0.87        17\n",
            "        3385       1.00      0.88      0.94        17\n",
            "        3450       1.00      1.00      1.00         6\n",
            "        3451       0.75      0.82      0.78        11\n",
            "        3452       0.78      0.88      0.82        16\n",
            "        3453       1.00      0.80      0.89         5\n",
            "        3454       1.00      1.00      1.00         3\n",
            "\n",
            "    accuracy                           0.75       450\n",
            "   macro avg       0.68      0.71      0.68       450\n",
            "weighted avg       0.77      0.75      0.75       450\n",
            "\n",
            "\n",
            "Confusion Matrix:\n",
            " [[ 4  1  0 ...  0  0  0]\n",
            " [ 0  7  0 ...  0  0  0]\n",
            " [ 0  0 12 ...  0  0  0]\n",
            " ...\n",
            " [ 0  0  0 ... 14  0  0]\n",
            " [ 0  0  0 ...  0  4  0]\n",
            " [ 0  0  0 ...  0  0  3]]\n"
          ]
        },
        {
          "output_type": "display_data",
          "data": {
            "text/plain": [
              "<Figure size 500x400 with 2 Axes>"
            ],
            "image/png": "[encoded data removed]"
          },
          "metadata": {}
        }
      ]
    }
  ]
}